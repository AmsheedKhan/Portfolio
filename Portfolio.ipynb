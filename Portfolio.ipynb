{
 "cells": [
  {
   "cell_type": "code",
   "execution_count": 1,
   "metadata": {},
   "outputs": [
    {
     "name": "stderr",
     "output_type": "stream",
     "text": [
      "2024-07-03 23:01:05.510 \n",
      "  \u001b[33m\u001b[1mWarning:\u001b[0m to view this Streamlit app on a browser, run it with the following\n",
      "  command:\n",
      "\n",
      "    streamlit run c:\\Users\\91936\\anaconda3\\lib\\site-packages\\ipykernel_launcher.py [ARGUMENTS]\n"
     ]
    }
   ],
   "source": [
    "import streamlit as st\n",
    "\n",
    "# Title and Introduction\n",
    "st.title(\"Machine Learning Engineer Portfolio\")\n",
    "st.write(\"Hi, I'm [Your Name]. I'm a passionate Machine Learning Engineer with [number] years of experience.\")\n",
    "st.write(\"This portfolio showcases my skills and projects in the field of Machine Learning.\")\n",
    "\n",
    "# Skills Section\n",
    "st.header(\"Skills\")\n",
    "skills = [\"Python\", \"R\", \"TensorFlow\", \"PyTorch\", \"Scikit-learn\", \"NumPy\", \"AWS\", \"Matplotlib\", \"Seaborn\"]\n",
    "st.write(\", \".join(skills))\n",
    "\n",
    "# Projects Section\n",
    "st.header(\"Projects\")\n",
    "\n",
    "# Project 1 (Replace with your project details)\n",
    "st.subheader(\"Project 1: [Project Title]\")\n",
    "st.write(\"A brief description of the problem you aimed to solve.\")\n",
    "st.write(\"**Data:** [Describe the data used (source, size, etc.)]\")\n",
    "st.write(\"**Methodology:** [Explain the chosen algorithms, models, and techniques.]\")\n",
    "st.write(\"**Results:** [Highlight the key achievements and improvements.]\")\n",
    "st.write(\"**Challenges:** [Mention any hurdles faced during the project.]\")\n",
    "\n",
    "# Add a link to your GitHub repository (if applicable)\n",
    "st.write(\"[Link to your GitHub repository](https://github.com/yourusername/project1)\")\n",
    "\n",
    "# Add visualizations or graphs related to the project (optional)\n",
    "# You can use libraries like Matplotlib or Plotly for this\n",
    "\n",
    "# Repeat the structure for Project 2, Project 3, etc.\n",
    "\n",
    "# Education & Certifications Section\n",
    "st.header(\"Education & Certifications\")\n",
    "st.write(\"**[Your Degree]** in [Your Field] from [University Name]\")\n",
    "# Add any relevant certifications\n",
    "\n",
    "# Contact Section\n",
    "st.header(\"Contact\")\n",
    "st.write(\"Email: [your_email@email.com]\")\n",
    "st.write(\"LinkedIn: [Link to your LinkedIn profile]\")\n",
    "\n",
    "# Run the Streamlit app\n",
    "if __name__ == \"__main__\":\n",
    "    st.sidebar.title(\"Navigation\")\n",
    "    st.sidebar.text(\"Use the sidebar to navigate through the sections.\")\n",
    "    st.sidebar.text(\"Feel free to explore my projects and skills!\")\n",
    "    st.balloons()  # Optional: Add interactive tooltips\n",
    "\n"
   ]
  },
  {
   "cell_type": "code",
   "execution_count": 2,
   "metadata": {},
   "outputs": [
    {
     "name": "stdout",
     "output_type": "stream",
     "text": [
      "Requirement already satisfied: streamlit in c:\\users\\91936\\anaconda3\\lib\\site-packages (1.36.0)Note: you may need to restart the kernel to use updated packages.\n",
      "\n",
      "Requirement already satisfied: watchdog<5,>=2.1.5; platform_system != \"Darwin\" in c:\\users\\91936\\anaconda3\\lib\\site-packages (from streamlit) (4.0.1)\n",
      "Requirement already satisfied: blinker<2,>=1.0.0 in c:\\users\\91936\\anaconda3\\lib\\site-packages (from streamlit) (1.8.2)\n",
      "Requirement already satisfied: tenacity<9,>=8.1.0 in c:\\users\\91936\\anaconda3\\lib\\site-packages (from streamlit) (8.4.2)\n",
      "Requirement already satisfied: pydeck<1,>=0.8.0b4 in c:\\users\\91936\\anaconda3\\lib\\site-packages (from streamlit) (0.9.1)\n",
      "Requirement already satisfied: requests<3,>=2.27 in c:\\users\\91936\\anaconda3\\lib\\site-packages (from streamlit) (2.31.0)\n",
      "Requirement already satisfied: tornado<7,>=6.0.3 in c:\\users\\91936\\anaconda3\\lib\\site-packages (from streamlit) (6.0.4)\n",
      "Requirement already satisfied: pyarrow>=7.0 in c:\\users\\91936\\anaconda3\\lib\\site-packages (from streamlit) (16.1.0)\n",
      "Requirement already satisfied: altair<6,>=4.0 in c:\\users\\91936\\anaconda3\\lib\\site-packages (from streamlit) (5.3.0)\n",
      "Requirement already satisfied: click<9,>=7.0 in c:\\users\\91936\\anaconda3\\lib\\site-packages (from streamlit) (7.1.2)\n",
      "Requirement already satisfied: typing-extensions<5,>=4.3.0 in c:\\users\\91936\\anaconda3\\lib\\site-packages (from streamlit) (4.4.0)\n",
      "Requirement already satisfied: toml<2,>=0.10.1 in c:\\users\\91936\\anaconda3\\lib\\site-packages (from streamlit) (0.10.1)\n",
      "Requirement already satisfied: rich<14,>=10.14.0 in c:\\users\\91936\\anaconda3\\lib\\site-packages (from streamlit) (13.7.1)\n",
      "Requirement already satisfied: protobuf<6,>=3.20 in c:\\users\\91936\\anaconda3\\lib\\site-packages (from streamlit) (5.27.2)\n",
      "Requirement already satisfied: gitpython!=3.1.19,<4,>=3.0.7 in c:\\users\\91936\\anaconda3\\lib\\site-packages (from streamlit) (3.1.43)\n",
      "Requirement already satisfied: cachetools<6,>=4.0 in c:\\users\\91936\\anaconda3\\lib\\site-packages (from streamlit) (5.3.3)\n",
      "Requirement already satisfied: pandas<3,>=1.3.0 in c:\\users\\91936\\anaconda3\\lib\\site-packages (from streamlit) (2.0.3)\n",
      "Requirement already satisfied: numpy<3,>=1.20 in c:\\users\\91936\\anaconda3\\lib\\site-packages (from streamlit) (1.24.4)\n",
      "Requirement already satisfied: packaging<25,>=20 in c:\\users\\91936\\anaconda3\\lib\\site-packages (from streamlit) (20.4)\n",
      "Requirement already satisfied: pillow<11,>=7.1.0 in c:\\users\\91936\\anaconda3\\lib\\site-packages (from streamlit) (7.2.0)\n",
      "Requirement already satisfied: jinja2>=2.10.1 in c:\\users\\91936\\anaconda3\\lib\\site-packages (from pydeck<1,>=0.8.0b4->streamlit) (2.11.2)\n",
      "Requirement already satisfied: urllib3<3,>=1.21.1 in c:\\users\\91936\\anaconda3\\lib\\site-packages (from requests<3,>=2.27->streamlit) (1.26.16)\n",
      "Requirement already satisfied: charset-normalizer<4,>=2 in c:\\users\\91936\\anaconda3\\lib\\site-packages (from requests<3,>=2.27->streamlit) (3.2.0)\n",
      "Requirement already satisfied: certifi>=2017.4.17 in c:\\users\\91936\\anaconda3\\lib\\site-packages (from requests<3,>=2.27->streamlit) (2022.12.7)\n",
      "Requirement already satisfied: idna<4,>=2.5 in c:\\users\\91936\\anaconda3\\lib\\site-packages (from requests<3,>=2.27->streamlit) (2.10)\n",
      "Requirement already satisfied: toolz in c:\\users\\91936\\anaconda3\\lib\\site-packages (from altair<6,>=4.0->streamlit) (0.10.0)\n",
      "Requirement already satisfied: jsonschema>=3.0 in c:\\users\\91936\\anaconda3\\lib\\site-packages (from altair<6,>=4.0->streamlit) (3.2.0)\n",
      "Requirement already satisfied: pygments<3.0.0,>=2.13.0 in c:\\users\\91936\\anaconda3\\lib\\site-packages (from rich<14,>=10.14.0->streamlit) (2.18.0)\n",
      "Requirement already satisfied: markdown-it-py>=2.2.0 in c:\\users\\91936\\anaconda3\\lib\\site-packages (from rich<14,>=10.14.0->streamlit) (3.0.0)\n",
      "Requirement already satisfied: gitdb<5,>=4.0.1 in c:\\users\\91936\\anaconda3\\lib\\site-packages (from gitpython!=3.1.19,<4,>=3.0.7->streamlit) (4.0.11)\n",
      "Requirement already satisfied: tzdata>=2022.1 in c:\\users\\91936\\anaconda3\\lib\\site-packages (from pandas<3,>=1.3.0->streamlit) (2024.1)\n",
      "Requirement already satisfied: python-dateutil>=2.8.2 in c:\\users\\91936\\anaconda3\\lib\\site-packages (from pandas<3,>=1.3.0->streamlit) (2.9.0.post0)\n",
      "Requirement already satisfied: pytz>=2020.1 in c:\\users\\91936\\anaconda3\\lib\\site-packages (from pandas<3,>=1.3.0->streamlit) (2020.1)\n",
      "Requirement already satisfied: pyparsing>=2.0.2 in c:\\users\\91936\\anaconda3\\lib\\site-packages (from packaging<25,>=20->streamlit) (2.4.7)\n",
      "Requirement already satisfied: six in c:\\users\\91936\\anaconda3\\lib\\site-packages (from packaging<25,>=20->streamlit) (1.15.0)\n",
      "Requirement already satisfied: MarkupSafe>=0.23 in c:\\users\\91936\\anaconda3\\lib\\site-packages (from jinja2>=2.10.1->pydeck<1,>=0.8.0b4->streamlit) (1.1.1)\n",
      "Requirement already satisfied: attrs>=17.4.0 in c:\\users\\91936\\anaconda3\\lib\\site-packages (from jsonschema>=3.0->altair<6,>=4.0->streamlit) (19.3.0)\n",
      "Requirement already satisfied: setuptools in c:\\users\\91936\\anaconda3\\lib\\site-packages (from jsonschema>=3.0->altair<6,>=4.0->streamlit) (49.2.0.post20200714)\n",
      "Requirement already satisfied: pyrsistent>=0.14.0 in c:\\users\\91936\\anaconda3\\lib\\site-packages (from jsonschema>=3.0->altair<6,>=4.0->streamlit) (0.16.0)\n",
      "Requirement already satisfied: mdurl~=0.1 in c:\\users\\91936\\anaconda3\\lib\\site-packages (from markdown-it-py>=2.2.0->rich<14,>=10.14.0->streamlit) (0.1.2)\n",
      "Requirement already satisfied: smmap<6,>=3.0.1 in c:\\users\\91936\\anaconda3\\lib\\site-packages (from gitdb<5,>=4.0.1->gitpython!=3.1.19,<4,>=3.0.7->streamlit) (5.0.1)\n"
     ]
    }
   ],
   "source": [
    "pip install streamlit"
   ]
  },
  {
   "cell_type": "code",
   "execution_count": null,
   "metadata": {},
   "outputs": [],
   "source": []
  }
 ],
 "metadata": {
  "kernelspec": {
   "display_name": "Python 3",
   "language": "python",
   "name": "python3"
  },
  "language_info": {
   "codemirror_mode": {
    "name": "ipython",
    "version": 3
   },
   "file_extension": ".py",
   "mimetype": "text/x-python",
   "name": "python",
   "nbconvert_exporter": "python",
   "pygments_lexer": "ipython3",
   "version": "3.8.3"
  }
 },
 "nbformat": 4,
 "nbformat_minor": 4
}
